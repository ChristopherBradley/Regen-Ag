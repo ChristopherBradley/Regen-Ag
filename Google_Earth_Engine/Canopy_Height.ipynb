{
 "cells": [
  {
   "cell_type": "code",
   "execution_count": 1,
   "id": "d9175cc7-3fe4-496d-9a0d-d300a114460f",
   "metadata": {},
   "outputs": [],
   "source": [
    "import geopandas as gpd\n",
    "from shapely.geometry import Polygon\n",
    "import subprocess\n"
   ]
  },
  {
   "cell_type": "code",
   "execution_count": 2,
   "id": "74036804-2ea3-4546-9540-a4599e3cea6f",
   "metadata": {},
   "outputs": [],
   "source": [
    "# Define the region of interest (ROI) polygon from provided coordinates\n",
    "roi_coords = [\n",
    "    [-120.7150726268212, 37.222377447414104],\n",
    "    [-120.7150726268212, 37.10540660593651],\n",
    "    [-120.58173775727298, 37.10540660593651],\n",
    "    [-120.58173775727298, 37.222377447414104],\n",
    "    [-120.7150726268212, 37.222377447414104]\n",
    "]\n",
    "roi_polygon = Polygon(roi_coords)"
   ]
  },
  {
   "cell_type": "code",
   "execution_count": 3,
   "id": "5a8ff056-2226-4b8a-b2c8-4bcfec2baf28",
   "metadata": {},
   "outputs": [],
   "source": [
    "# Load the tiles.geojson file to identify relevant tiles\n",
    "tiles_geojson = 'tiles.geojson'\n",
    "gdf = gpd.read_file(tiles_geojson)"
   ]
  },
  {
   "cell_type": "code",
   "execution_count": 6,
   "id": "498d3f07-ad79-47cc-9a2b-cd2a4bb9efe0",
   "metadata": {},
   "outputs": [
    {
     "data": {
      "text/html": [
       "<div>\n",
       "<style scoped>\n",
       "    .dataframe tbody tr th:only-of-type {\n",
       "        vertical-align: middle;\n",
       "    }\n",
       "\n",
       "    .dataframe tbody tr th {\n",
       "        vertical-align: top;\n",
       "    }\n",
       "\n",
       "    .dataframe thead th {\n",
       "        text-align: right;\n",
       "    }\n",
       "</style>\n",
       "<table border=\"1\" class=\"dataframe\">\n",
       "  <thead>\n",
       "    <tr style=\"text-align: right;\">\n",
       "      <th></th>\n",
       "      <th>tile</th>\n",
       "      <th>geometry</th>\n",
       "    </tr>\n",
       "  </thead>\n",
       "  <tbody>\n",
       "    <tr>\n",
       "      <th>0</th>\n",
       "      <td>02300111120</td>\n",
       "      <td>POLYGON ((-124.27734 40.58058, -124.27734 40.7...</td>\n",
       "    </tr>\n",
       "    <tr>\n",
       "      <th>1</th>\n",
       "      <td>02300111122</td>\n",
       "      <td>POLYGON ((-124.27734 40.44695, -124.27734 40.5...</td>\n",
       "    </tr>\n",
       "    <tr>\n",
       "      <th>2</th>\n",
       "      <td>02300111300</td>\n",
       "      <td>POLYGON ((-124.27734 40.31304, -124.27734 40.4...</td>\n",
       "    </tr>\n",
       "    <tr>\n",
       "      <th>3</th>\n",
       "      <td>02300111302</td>\n",
       "      <td>POLYGON ((-124.27734 40.17887, -124.27734 40.3...</td>\n",
       "    </tr>\n",
       "    <tr>\n",
       "      <th>4</th>\n",
       "      <td>02122333101</td>\n",
       "      <td>POLYGON ((-124.10156 41.90228, -124.10156 42.0...</td>\n",
       "    </tr>\n",
       "    <tr>\n",
       "      <th>...</th>\n",
       "      <td>...</td>\n",
       "      <td>...</td>\n",
       "    </tr>\n",
       "    <tr>\n",
       "      <th>1828</th>\n",
       "      <td>02301312323</td>\n",
       "      <td>POLYGON ((-114.25781 34.30714, -114.25781 34.4...</td>\n",
       "    </tr>\n",
       "    <tr>\n",
       "      <th>1829</th>\n",
       "      <td>02301330101</td>\n",
       "      <td>POLYGON ((-114.25781 34.16182, -114.25781 34.3...</td>\n",
       "    </tr>\n",
       "    <tr>\n",
       "      <th>1830</th>\n",
       "      <td>02301330103</td>\n",
       "      <td>POLYGON ((-114.25781 34.01624, -114.25781 34.1...</td>\n",
       "    </tr>\n",
       "    <tr>\n",
       "      <th>1831</th>\n",
       "      <td>02301312332</td>\n",
       "      <td>POLYGON ((-114.08203 34.30714, -114.08203 34.4...</td>\n",
       "    </tr>\n",
       "    <tr>\n",
       "      <th>1832</th>\n",
       "      <td>02301330110</td>\n",
       "      <td>POLYGON ((-114.08203 34.16182, -114.08203 34.3...</td>\n",
       "    </tr>\n",
       "  </tbody>\n",
       "</table>\n",
       "<p>1833 rows × 2 columns</p>\n",
       "</div>"
      ],
      "text/plain": [
       "             tile                                           geometry\n",
       "0     02300111120  POLYGON ((-124.27734 40.58058, -124.27734 40.7...\n",
       "1     02300111122  POLYGON ((-124.27734 40.44695, -124.27734 40.5...\n",
       "2     02300111300  POLYGON ((-124.27734 40.31304, -124.27734 40.4...\n",
       "3     02300111302  POLYGON ((-124.27734 40.17887, -124.27734 40.3...\n",
       "4     02122333101  POLYGON ((-124.10156 41.90228, -124.10156 42.0...\n",
       "...           ...                                                ...\n",
       "1828  02301312323  POLYGON ((-114.25781 34.30714, -114.25781 34.4...\n",
       "1829  02301330101  POLYGON ((-114.25781 34.16182, -114.25781 34.3...\n",
       "1830  02301330103  POLYGON ((-114.25781 34.01624, -114.25781 34.1...\n",
       "1831  02301312332  POLYGON ((-114.08203 34.30714, -114.08203 34.4...\n",
       "1832  02301330110  POLYGON ((-114.08203 34.16182, -114.08203 34.3...\n",
       "\n",
       "[1833 rows x 2 columns]"
      ]
     },
     "execution_count": 6,
     "metadata": {},
     "output_type": "execute_result"
    }
   ],
   "source": [
    "gdf"
   ]
  },
  {
   "cell_type": "code",
   "execution_count": 8,
   "id": "8ab720ce-6c0d-4008-b021-9da317f00296",
   "metadata": {},
   "outputs": [],
   "source": [
    "# Filter tiles based on intersection with ROI\n",
    "relevant_tiles = []\n",
    "for idx, row in gdf.iterrows():\n",
    "    tile_polygon = row['geometry']\n",
    "    if tile_polygon.intersects(roi_polygon):\n",
    "        relevant_tiles.append(row['tile'])"
   ]
  },
  {
   "cell_type": "code",
   "execution_count": 12,
   "id": "cc5a4edc-d805-4c23-aec6-2cfad74c0e0d",
   "metadata": {},
   "outputs": [
    {
     "data": {
      "text/plain": [
       "['02301032023', '02301032201', '02301032032', '02301032210']"
      ]
     },
     "execution_count": 12,
     "metadata": {},
     "output_type": "execute_result"
    }
   ],
   "source": [
    "relevant_tiles"
   ]
  },
  {
   "cell_type": "code",
   "execution_count": null,
   "id": "2927139a-5971-4360-9338-c2021fd2a392",
   "metadata": {},
   "outputs": [],
   "source": []
  },
  {
   "cell_type": "code",
   "execution_count": 11,
   "id": "cad925ec-d861-4ea6-aa68-f6c20597065c",
   "metadata": {},
   "outputs": [
    {
     "name": "stdout",
     "output_type": "stream",
     "text": [
      "Downloaded and clipped 02301032023.tif to ROI\n"
     ]
    },
    {
     "name": "stderr",
     "output_type": "stream",
     "text": [
      "ERROR 4: s3://dataforgood-fb-data/forests/v1/California/alsgedi_ca_v6_float/chm/02301032023.tif: No such file or directory\n",
      "ERROR 4: Failed to open source file s3://dataforgood-fb-data/forests/v1/California/alsgedi_ca_v6_float/chm/02301032023.tif\n",
      "\n"
     ]
    }
   ],
   "source": [
    "tile = relevant_tiles[0]\n",
    "input_tiff = f's3://dataforgood-fb-data/forests/v1/California/alsgedi_ca_v6_float/chm/{tile}.tif'\n",
    "output_tiff = f'{tile}.tif'  # Output file name based on tile number\n",
    "\n",
    "# Example of using gdalwarp to clip to ROI (adjust parameters as needed)\n",
    "subprocess.run([\n",
    "    'gdalwarp', '-of', 'GTiff', '-cutline', tiles_geojson, '-cwhere', f'tile={tile}',\n",
    "    '-crop_to_cutline', '-dstnodata', '-9999', input_tiff, output_tiff\n",
    "])\n",
    "\n",
    "print(f'Downloaded and clipped {tile}.tif to ROI')"
   ]
  },
  {
   "cell_type": "code",
   "execution_count": 13,
   "id": "f1c72f4a-9010-4774-9799-54be110c1e13",
   "metadata": {},
   "outputs": [
    {
     "data": {
      "text/plain": [
       "'s3://dataforgood-fb-data/forests/v1/California/alsgedi_ca_v6_float/chm/02301032023.tif'"
      ]
     },
     "execution_count": 13,
     "metadata": {},
     "output_type": "execute_result"
    }
   ],
   "source": [
    "input_tiff"
   ]
  },
  {
   "cell_type": "code",
   "execution_count": 14,
   "id": "43c5f69a-e130-4f7b-9326-fa7775d4184b",
   "metadata": {},
   "outputs": [
    {
     "name": "stdout",
     "output_type": "stream",
     "text": [
      "2023-07-17 06:38:52  111.6 MiB forests/v1/California/alsgedi_ca_v6_float/chm/02301032023.tif\n",
      "\n",
      "Total Objects: 1\n",
      "   Total Size: 111.6 MiB\n"
     ]
    }
   ],
   "source": [
    "!aws s3 ls s3://dataforgood-fb-data/forests/v1/California/alsgedi_ca_v6_float/chm/02301032023.tif --recursive --human-readable --summarize"
   ]
  },
  {
   "cell_type": "code",
   "execution_count": 20,
   "id": "015145c1-57a2-49d0-abbf-1942d999d644",
   "metadata": {},
   "outputs": [
    {
     "name": "stdout",
     "output_type": "stream",
     "text": [
      "download: s3://dataforgood-fb-data/forests/v1/California/alsgedi_ca_v6_float/chm/02301032023.tif to ./02301032023.tif\n"
     ]
    },
    {
     "data": {
      "text/plain": [
       "CompletedProcess(args='aws s3 cp s3://dataforgood-fb-data/forests/v1/California/alsgedi_ca_v6_float/chm/02301032023.tif .', returncode=0)"
      ]
     },
     "execution_count": 20,
     "metadata": {},
     "output_type": "execute_result"
    }
   ],
   "source": [
    "subprocess.run(\"aws s3 cp s3://dataforgood-fb-data/forests/v1/California/alsgedi_ca_v6_float/chm/02301032023.tif .\", shell=True)"
   ]
  },
  {
   "cell_type": "code",
   "execution_count": 19,
   "id": "3dc7369d-4b5a-4f38-9fc8-648fde4736b8",
   "metadata": {},
   "outputs": [
    {
     "name": "stdout",
     "output_type": "stream",
     "text": [
      "\u001b[34m.\u001b[m\u001b[m\n",
      "\u001b[34m..\u001b[m\u001b[m\n",
      "\u001b[34m.ipynb_checkpoints\u001b[m\u001b[m\n",
      "Canopy_Height.ipynb\n",
      "GEE Tutorial.ipynb\n",
      "Google_Earth_Engine.py\n",
      "my_lc_interactive_map.html\n",
      "tiles.geojson\n"
     ]
    },
    {
     "data": {
      "text/plain": [
       "CompletedProcess(args='ls -a', returncode=0)"
      ]
     },
     "execution_count": 19,
     "metadata": {},
     "output_type": "execute_result"
    }
   ],
   "source": [
    "subprocess.run(\"ls -a\", shell=True)"
   ]
  },
  {
   "cell_type": "code",
   "execution_count": null,
   "id": "8d8a46cb-eddd-4610-bf91-147edabf4ea7",
   "metadata": {},
   "outputs": [],
   "source": []
  },
  {
   "cell_type": "code",
   "execution_count": null,
   "id": "b1452c89-54eb-4bab-b31c-42e7ab24e4c3",
   "metadata": {},
   "outputs": [],
   "source": [
    "# Download relevant tiles from S3 and merge/clip to ROI\n",
    "for tile in relevant_tiles:\n",
    "    input_tiff = f's3://dataforgood-fb-data/forests/v1/California/alsgedi_ca_v6_float/chm/{tile}.tif'\n",
    "    output_tiff = f'{tile}.tif'  # Output file name based on tile number\n",
    "\n",
    "    # Example of using gdalwarp to clip to ROI (adjust parameters as needed)\n",
    "    subprocess.run([\n",
    "        'gdalwarp', '-of', 'GTiff', '-cutline', tiles_geojson, '-cwhere', f'tile={tile}',\n",
    "        '-crop_to_cutline', '-dstnodata', '-9999', input_tiff, output_tiff\n",
    "    ])\n",
    "\n",
    "    print(f'Downloaded and clipped {tile}.tif to ROI')"
   ]
  },
  {
   "cell_type": "code",
   "execution_count": null,
   "id": "70598aff-9cae-4df1-902c-b26ce9783058",
   "metadata": {},
   "outputs": [],
   "source": [
    "\n",
    "\n",
    "\n",
    "\n",
    "\n",
    "\n",
    "# Download relevant tiles from S3 and merge/clip to ROI\n",
    "for tile in relevant_tiles:\n",
    "    input_tiff = f's3://dataforgood-fb-data/forests/v1/California/alsgedi_ca_v6_float/chm/{tile}.tif'\n",
    "    output_tiff = f'{tile}.tif'  # Output file name based on tile number\n",
    "\n",
    "    # Example of using gdalwarp to clip to ROI (adjust parameters as needed)\n",
    "    subprocess.run([\n",
    "        'gdalwarp', '-of', 'GTiff', '-cutline', tiles_geojson, '-cwhere', f'tile={tile}',\n",
    "        '-crop_to_cutline', '-dstnodata', '-9999', input_tiff, output_tiff\n",
    "    ])\n",
    "\n",
    "    print(f'Downloaded and clipped {tile}.tif to ROI')\n",
    "\n",
    "print('Processing completed.')\n"
   ]
  },
  {
   "cell_type": "code",
   "execution_count": null,
   "id": "f8a6d9dd-327b-4b86-8104-59de3ebbe616",
   "metadata": {},
   "outputs": [],
   "source": []
  }
 ],
 "metadata": {
  "kernelspec": {
   "display_name": "Python 3 (ipykernel)",
   "language": "python",
   "name": "python3"
  },
  "language_info": {
   "codemirror_mode": {
    "name": "ipython",
    "version": 3
   },
   "file_extension": ".py",
   "mimetype": "text/x-python",
   "name": "python",
   "nbconvert_exporter": "python",
   "pygments_lexer": "ipython3",
   "version": "3.12.0"
  }
 },
 "nbformat": 4,
 "nbformat_minor": 5
}
