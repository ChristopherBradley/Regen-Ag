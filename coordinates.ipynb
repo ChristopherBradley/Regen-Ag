{
 "cells": [
  {
   "cell_type": "code",
   "execution_count": 1,
   "metadata": {},
   "outputs": [],
   "source": [
    "geojsonio = {\n",
    "  \"type\": \"FeatureCollection\",\n",
    "  \"features\": [\n",
    "    {\n",
    "      \"type\": \"Feature\",\n",
    "      \"properties\": {},\n",
    "      \"geometry\": {\n",
    "        \"coordinates\": [\n",
    "          [\n",
    "            [\n",
    "              32.973210630822564,\n",
    "              -3.4636437185999682\n",
    "            ],\n",
    "            [\n",
    "              32.973210630822564,\n",
    "              -4.48586566435192\n",
    "            ],\n",
    "            [\n",
    "              34.199876001496676,\n",
    "              -4.48586566435192\n",
    "            ],\n",
    "            [\n",
    "              34.199876001496676,\n",
    "              -3.4636437185999682\n",
    "            ],\n",
    "            [\n",
    "              32.973210630822564,\n",
    "              -3.4636437185999682\n",
    "            ]\n",
    "          ]\n",
    "        ],\n",
    "        \"type\": \"Polygon\"\n",
    "      }\n",
    "    }\n",
    "  ]\n",
    "}"
   ]
  },
  {
   "cell_type": "code",
   "execution_count": 31,
   "metadata": {},
   "outputs": [],
   "source": [
    "import pandas as pd\n",
    "import pickle"
   ]
  },
  {
   "cell_type": "code",
   "execution_count": 4,
   "metadata": {},
   "outputs": [
    {
     "data": {
      "text/plain": [
       "{'type': 'FeatureCollection',\n",
       " 'features': [{'type': 'Feature',\n",
       "   'properties': {},\n",
       "   'geometry': {'coordinates': [[[32.973210630822564, -3.4636437185999682],\n",
       "      [32.973210630822564, -4.48586566435192],\n",
       "      [34.199876001496676, -4.48586566435192],\n",
       "      [34.199876001496676, -3.4636437185999682],\n",
       "      [32.973210630822564, -3.4636437185999682]]],\n",
       "    'type': 'Polygon'}}]}"
      ]
     },
     "execution_count": 4,
     "metadata": {},
     "output_type": "execute_result"
    }
   ],
   "source": [
    "geojsonio"
   ]
  },
  {
   "cell_type": "code",
   "execution_count": 10,
   "metadata": {},
   "outputs": [
    {
     "data": {
      "text/plain": [
       "[-30.335861, 149.769345, -30.206271, 149.949173]"
      ]
     },
     "execution_count": 10,
     "metadata": {},
     "output_type": "execute_result"
    }
   ],
   "source": [
    "bbox = [149.769345, -30.335861, 149.949173, -30.206271]\n",
    "[bbox[1],bbox[0],bbox[3],bbox[2]]"
   ]
  },
  {
   "cell_type": "code",
   "execution_count": 21,
   "metadata": {},
   "outputs": [
    {
     "data": {
      "text/plain": [
       "[148.40512619400977, -34.34063752352436, 148.516123, -34.431358]"
      ]
     },
     "execution_count": 21,
     "metadata": {},
     "output_type": "execute_result"
    }
   ],
   "source": [
    "# Milgdarra\n",
    "google_maps1 = -34.34063752352436, 148.40512619400977, \n",
    "google_maps2 = -34.431358, 148.516123\n",
    "google_maps_centre = -34.390368, 148.474816\n",
    "[google_maps1[1], google_maps1[0], google_maps2[1], google_maps2[0]]"
   ]
  },
  {
   "cell_type": "code",
   "execution_count": 24,
   "metadata": {},
   "outputs": [],
   "source": [
    "john_centre = -34.38904, 148.46949 \n",
    "bottom_left = -34.470020, 148.417472\n",
    "top_right = -34.356923, 148.568857"
   ]
  },
  {
   "cell_type": "code",
   "execution_count": 26,
   "metadata": {},
   "outputs": [
    {
     "data": {
      "text/plain": [
       "[148.417472, -34.47002, 148.568857, -34.356923]"
      ]
     },
     "execution_count": 26,
     "metadata": {},
     "output_type": "execute_result"
    }
   ],
   "source": [
    "[bottom_left[1],bottom_left[0], top_right[1], top_right[0]]"
   ]
  },
  {
   "cell_type": "code",
   "execution_count": 27,
   "metadata": {},
   "outputs": [
    {
     "name": "stdout",
     "output_type": "stream",
     "text": [
      "play.ipynb\r\n"
     ]
    }
   ],
   "source": [
    "!ls"
   ]
  },
  {
   "cell_type": "code",
   "execution_count": null,
   "metadata": {},
   "outputs": [],
   "source": [
    "-30.335861, 149.769345"
   ]
  },
  {
   "cell_type": "code",
   "execution_count": null,
   "metadata": {},
   "outputs": [],
   "source": [
    "-30.206271, 149.949173"
   ]
  },
  {
   "cell_type": "code",
   "execution_count": 6,
   "metadata": {},
   "outputs": [
    {
     "data": {
      "text/html": [
       "\n",
       "            <style>\n",
       "                .geemap-dark {\n",
       "                    --jp-widgets-color: white;\n",
       "                    --jp-widgets-label-color: white;\n",
       "                    --jp-ui-font-color1: white;\n",
       "                    --jp-layout-color2: #454545;\n",
       "                    background-color: #383838;\n",
       "                }\n",
       "\n",
       "                .geemap-dark .jupyter-button {\n",
       "                    --jp-layout-color3: #383838;\n",
       "                }\n",
       "\n",
       "                .geemap-colab {\n",
       "                    background-color: var(--colab-primary-surface-color, white);\n",
       "                }\n",
       "\n",
       "                .geemap-colab .jupyter-button {\n",
       "                    --jp-layout-color3: var(--colab-primary-surface-color, white);\n",
       "                }\n",
       "            </style>\n",
       "            "
      ],
      "text/plain": [
       "<IPython.core.display.HTML object>"
      ]
     },
     "metadata": {},
     "output_type": "display_data"
    }
   ],
   "source": []
  },
  {
   "cell_type": "code",
   "execution_count": 3,
   "metadata": {},
   "outputs": [
    {
     "data": {
      "text/html": [
       "\n",
       "            <style>\n",
       "                .geemap-dark {\n",
       "                    --jp-widgets-color: white;\n",
       "                    --jp-widgets-label-color: white;\n",
       "                    --jp-ui-font-color1: white;\n",
       "                    --jp-layout-color2: #454545;\n",
       "                    background-color: #383838;\n",
       "                }\n",
       "\n",
       "                .geemap-dark .jupyter-button {\n",
       "                    --jp-layout-color3: #383838;\n",
       "                }\n",
       "\n",
       "                .geemap-colab {\n",
       "                    background-color: var(--colab-primary-surface-color, white);\n",
       "                }\n",
       "\n",
       "                .geemap-colab .jupyter-button {\n",
       "                    --jp-layout-color3: var(--colab-primary-surface-color, white);\n",
       "                }\n",
       "            </style>\n",
       "            "
      ],
      "text/plain": [
       "<IPython.core.display.HTML object>"
      ]
     },
     "metadata": {},
     "output_type": "display_data"
    }
   ],
   "source": [
    "import geodata_harvester as gh\n",
    "import os\n",
    "import matplotlib.pyplot as plt\n",
    "import pandas as pd\n",
    "import pickle"
   ]
  },
  {
   "cell_type": "code",
   "execution_count": 7,
   "metadata": {},
   "outputs": [
    {
     "data": {
      "text/html": [
       "\n",
       "            <style>\n",
       "                .geemap-dark {\n",
       "                    --jp-widgets-color: white;\n",
       "                    --jp-widgets-label-color: white;\n",
       "                    --jp-ui-font-color1: white;\n",
       "                    --jp-layout-color2: #454545;\n",
       "                    background-color: #383838;\n",
       "                }\n",
       "\n",
       "                .geemap-dark .jupyter-button {\n",
       "                    --jp-layout-color3: #383838;\n",
       "                }\n",
       "\n",
       "                .geemap-colab {\n",
       "                    background-color: var(--colab-primary-surface-color, white);\n",
       "                }\n",
       "\n",
       "                .geemap-colab .jupyter-button {\n",
       "                    --jp-layout-color3: var(--colab-primary-surface-color, white);\n",
       "                }\n",
       "            </style>\n",
       "            "
      ],
      "text/plain": [
       "<IPython.core.display.HTML object>"
      ]
     },
     "metadata": {},
     "output_type": "display_data"
    },
    {
     "data": {
      "text/html": [
       "<div>\n",
       "<style scoped>\n",
       "    .dataframe tbody tr th:only-of-type {\n",
       "        vertical-align: middle;\n",
       "    }\n",
       "\n",
       "    .dataframe tbody tr th {\n",
       "        vertical-align: top;\n",
       "    }\n",
       "\n",
       "    .dataframe thead th {\n",
       "        text-align: right;\n",
       "    }\n",
       "</style>\n",
       "<table border=\"1\" class=\"dataframe\">\n",
       "  <thead>\n",
       "    <tr style=\"text-align: right;\">\n",
       "      <th></th>\n",
       "      <th>19-12-30_1</th>\n",
       "      <th>20-01-02_1</th>\n",
       "      <th>20-01-03_1</th>\n",
       "      <th>20-01-04_1</th>\n",
       "      <th>20-01-05_1</th>\n",
       "      <th>20-01-06_1</th>\n",
       "      <th>20-01-07_1</th>\n",
       "      <th>20-01-08_1</th>\n",
       "      <th>20-01-09_1</th>\n",
       "      <th>20-01-10_1</th>\n",
       "      <th>...</th>\n",
       "      <th>24-04-14_1</th>\n",
       "      <th>24-04-15_1</th>\n",
       "      <th>24-04-16_1</th>\n",
       "      <th>24-04-17_1</th>\n",
       "      <th>24-04-18_1</th>\n",
       "      <th>24-04-19_1</th>\n",
       "      <th>24-04-20_1</th>\n",
       "      <th>24-04-21_1</th>\n",
       "      <th>24-04-22_1</th>\n",
       "      <th>24-04-23_1</th>\n",
       "    </tr>\n",
       "  </thead>\n",
       "  <tbody>\n",
       "    <tr>\n",
       "      <th>rainfall</th>\n",
       "      <td>0.000000</td>\n",
       "      <td>0.000000</td>\n",
       "      <td>0.0</td>\n",
       "      <td>0.000000</td>\n",
       "      <td>1.099854</td>\n",
       "      <td>1.899902</td>\n",
       "      <td>0.000000</td>\n",
       "      <td>0.000000</td>\n",
       "      <td>0.000000</td>\n",
       "      <td>0.000000</td>\n",
       "      <td>...</td>\n",
       "      <td>0.0</td>\n",
       "      <td>0.0</td>\n",
       "      <td>0.0</td>\n",
       "      <td>0.000000</td>\n",
       "      <td>0.000000</td>\n",
       "      <td>1.0</td>\n",
       "      <td>0.000000</td>\n",
       "      <td>0.0</td>\n",
       "      <td>0.000000</td>\n",
       "      <td>0.0</td>\n",
       "    </tr>\n",
       "    <tr>\n",
       "      <th>max_temp</th>\n",
       "      <td>35.100002</td>\n",
       "      <td>39.799999</td>\n",
       "      <td>44.0</td>\n",
       "      <td>32.600002</td>\n",
       "      <td>28.900000</td>\n",
       "      <td>36.000000</td>\n",
       "      <td>37.400002</td>\n",
       "      <td>33.200001</td>\n",
       "      <td>40.700001</td>\n",
       "      <td>29.800001</td>\n",
       "      <td>...</td>\n",
       "      <td>22.5</td>\n",
       "      <td>22.5</td>\n",
       "      <td>22.4</td>\n",
       "      <td>19.200001</td>\n",
       "      <td>19.200001</td>\n",
       "      <td>20.1</td>\n",
       "      <td>21.800001</td>\n",
       "      <td>23.5</td>\n",
       "      <td>22.700001</td>\n",
       "      <td>18.4</td>\n",
       "    </tr>\n",
       "    <tr>\n",
       "      <th>min_temp</th>\n",
       "      <td>15.400001</td>\n",
       "      <td>17.800001</td>\n",
       "      <td>19.6</td>\n",
       "      <td>22.200001</td>\n",
       "      <td>14.700000</td>\n",
       "      <td>16.800001</td>\n",
       "      <td>19.700001</td>\n",
       "      <td>18.700001</td>\n",
       "      <td>17.800001</td>\n",
       "      <td>14.000000</td>\n",
       "      <td>...</td>\n",
       "      <td>2.3</td>\n",
       "      <td>3.0</td>\n",
       "      <td>5.0</td>\n",
       "      <td>6.700000</td>\n",
       "      <td>4.400000</td>\n",
       "      <td>4.5</td>\n",
       "      <td>4.600000</td>\n",
       "      <td>2.7</td>\n",
       "      <td>3.400000</td>\n",
       "      <td>6.5</td>\n",
       "    </tr>\n",
       "  </tbody>\n",
       "</table>\n",
       "<p>3 rows × 1575 columns</p>\n",
       "</div>"
      ],
      "text/plain": [
       "          19-12-30_1  20-01-02_1  20-01-03_1  20-01-04_1  20-01-05_1  \\\n",
       "rainfall    0.000000    0.000000         0.0    0.000000    1.099854   \n",
       "max_temp   35.100002   39.799999        44.0   32.600002   28.900000   \n",
       "min_temp   15.400001   17.800001        19.6   22.200001   14.700000   \n",
       "\n",
       "          20-01-06_1  20-01-07_1  20-01-08_1  20-01-09_1  20-01-10_1  ...  \\\n",
       "rainfall    1.899902    0.000000    0.000000    0.000000    0.000000  ...   \n",
       "max_temp   36.000000   37.400002   33.200001   40.700001   29.800001  ...   \n",
       "min_temp   16.800001   19.700001   18.700001   17.800001   14.000000  ...   \n",
       "\n",
       "          24-04-14_1  24-04-15_1  24-04-16_1  24-04-17_1  24-04-18_1  \\\n",
       "rainfall         0.0         0.0         0.0    0.000000    0.000000   \n",
       "max_temp        22.5        22.5        22.4   19.200001   19.200001   \n",
       "min_temp         2.3         3.0         5.0    6.700000    4.400000   \n",
       "\n",
       "          24-04-19_1  24-04-20_1  24-04-21_1  24-04-22_1  24-04-23_1  \n",
       "rainfall         1.0    0.000000         0.0    0.000000         0.0  \n",
       "max_temp        20.1   21.800001        23.5   22.700001        18.4  \n",
       "min_temp         4.5    4.600000         2.7    3.400000         6.5  \n",
       "\n",
       "[3 rows x 1575 columns]"
      ]
     },
     "execution_count": 7,
     "metadata": {},
     "output_type": "execute_result"
    }
   ],
   "source": [
    "import pickle\n",
    "with open('milgdarra_rain_mintemp_maxtemp_2020_2024.pickle', 'rb') as file:\n",
    "    df_climate = pickle.load(file)\n",
    "df_climate"
   ]
  },
  {
   "cell_type": "code",
   "execution_count": 1,
   "metadata": {},
   "outputs": [
    {
     "data": {
      "text/plain": [
       "(73413,\n",
       " 73778,\n",
       " 74143,\n",
       " 74508,\n",
       " 74874,\n",
       " 75239,\n",
       " 75604,\n",
       " 75969,\n",
       " 76335,\n",
       " 76700,\n",
       " 77065,\n",
       " 77430,\n",
       " 77796,\n",
       " 78161,\n",
       " 78526,\n",
       " 78891,\n",
       " 79257,\n",
       " 79622,\n",
       " 79987,\n",
       " 80352,\n",
       " 80718,\n",
       " 81083,\n",
       " 81448,\n",
       " 81813)"
      ]
     },
     "execution_count": 1,
     "metadata": {},
     "output_type": "execute_result"
    }
   ],
   "source": [
    "73413, 73778, 74143, 74508, 74874, 75239, 75604, 75969, 76335, 76700, 77065, 77430, 77796, 78161, 78526, 78891, 79257, 79622, 79987, 80352, 80718, 81083, 81448, 81813\n"
   ]
  },
  {
   "cell_type": "code",
   "execution_count": 2,
   "metadata": {},
   "outputs": [
    {
     "data": {
      "text/plain": [
       "365"
      ]
     },
     "execution_count": 2,
     "metadata": {},
     "output_type": "execute_result"
    }
   ],
   "source": [
    "73778 - 73413"
   ]
  },
  {
   "cell_type": "code",
   "execution_count": 3,
   "metadata": {},
   "outputs": [
    {
     "data": {
      "text/plain": [
       "365"
      ]
     },
     "execution_count": 3,
     "metadata": {},
     "output_type": "execute_result"
    }
   ],
   "source": [
    "81813 - 81448"
   ]
  },
  {
   "cell_type": "code",
   "execution_count": 6,
   "metadata": {},
   "outputs": [
    {
     "data": {
      "text/plain": [
       "224.14520547945204"
      ]
     },
     "execution_count": 6,
     "metadata": {},
     "output_type": "execute_result"
    }
   ],
   "source": [
    "81813/365"
   ]
  },
  {
   "cell_type": "code",
   "execution_count": null,
   "metadata": {},
   "outputs": [],
   "source": []
  }
 ],
 "metadata": {
  "kernelspec": {
   "display_name": "Python 3 (ipykernel)",
   "language": "python",
   "name": "python3"
  },
  "language_info": {
   "codemirror_mode": {
    "name": "ipython",
    "version": 3
   },
   "file_extension": ".py",
   "mimetype": "text/x-python",
   "name": "python",
   "nbconvert_exporter": "python",
   "pygments_lexer": "ipython3",
   "version": "3.12.0"
  }
 },
 "nbformat": 4,
 "nbformat_minor": 4
}
