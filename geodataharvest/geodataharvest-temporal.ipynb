{
 "cells": [
  {
   "cell_type": "code",
   "execution_count": 1,
   "id": "a71411d1-9bfd-4659-bf0a-065b995bdf27",
   "metadata": {},
   "outputs": [],
   "source": [
    "# For creating environment: \n",
    "# ~ conda create -n geoharvest python=3.12\n",
    "# ~ conda install geodata-harvester -c conda-forge"
   ]
  },
  {
   "cell_type": "code",
   "execution_count": 2,
   "id": "893e077d-249a-4323-bf5f-bf8d452870a9",
   "metadata": {},
   "outputs": [
    {
     "data": {
      "text/html": [
       "\n",
       "            <style>\n",
       "                .geemap-dark {\n",
       "                    --jp-widgets-color: white;\n",
       "                    --jp-widgets-label-color: white;\n",
       "                    --jp-ui-font-color1: white;\n",
       "                    --jp-layout-color2: #454545;\n",
       "                    background-color: #383838;\n",
       "                }\n",
       "\n",
       "                .geemap-dark .jupyter-button {\n",
       "                    --jp-layout-color3: #383838;\n",
       "                }\n",
       "\n",
       "                .geemap-colab {\n",
       "                    background-color: var(--colab-primary-surface-color, white);\n",
       "                }\n",
       "\n",
       "                .geemap-colab .jupyter-button {\n",
       "                    --jp-layout-color3: var(--colab-primary-surface-color, white);\n",
       "                }\n",
       "            </style>\n",
       "            "
      ],
      "text/plain": [
       "<IPython.core.display.HTML object>"
      ]
     },
     "metadata": {},
     "output_type": "display_data"
    }
   ],
   "source": [
    "import geodata_harvester as gh\n",
    "import os\n",
    "import matplotlib.pyplot as plt\n",
    "import pandas as pd"
   ]
  },
  {
   "cell_type": "code",
   "execution_count": null,
   "id": "4d4e408c-54a2-48b9-8352-4b8d4b6eb9aa",
   "metadata": {},
   "outputs": [],
   "source": [
    "variables = [\"rainfall\"]\n",
    "\n",
    "# variables = [\"rainfall\", \"max_temp\", \"min_temp\"]\n",
    "# variables = [\"rainfall\", \"max_temp\", \"min_temp\", \n",
    "#              'vp', 'vp_deficit', 'evap_pan', \n",
    "#              'evap_syn', 'evap_morton_lake', 'radiation', \n",
    "#              'rh_tmax', 'rh_tmin', 'et_short_crop', \n",
    "#              'et_tall_crop', 'et_morton_actual', 'et_morton_potential', \n",
    "#              'et_morton_wet', 'mslp']\n",
    "\n",
    "# variables = [\"rainfall\", \"max_temp\", \"min_temp\"]\n",
    "# variables = [\"rainfall\", \"max_temp\", \"min_temp\", \n",
    "#              'vp', 'vp_deficit', 'radiation', \n",
    "#              'rh_tmax', 'rh_tmin']\n",
    "\n",
    "df_climate = []\n",
    "for variable in variables:\n",
    "    yaml_file = f\"milgdarra_{variable}.yaml\"\n",
    "    df_variable = gh.harvest.run(os.path.join(\"testing\",yaml_file), preview=False, return_df=True)\n",
    "    df_climate.append(df_variable)\n",
    "\n",
    "drop_columns = ['Longitude', 'Latitude','DEM_SRTM_1_Second_Hydro_Enforced_2024_05_24_1', 'geometry']\n",
    "for i in range(len(df_climate)):\n",
    "    df_climate[i] = df_climate[i].drop(drop_columns,axis=1)\n",
    "    df_climate[i].columns = df_climate[i].columns.str.slice(-10)\n",
    "    df_climate[i].index = [variables[i]]"
   ]
  }
 ],
 "metadata": {
  "kernelspec": {
   "display_name": "Python 3 (ipykernel)",
   "language": "python",
   "name": "python3"
  },
  "language_info": {
   "codemirror_mode": {
    "name": "ipython",
    "version": 3
   },
   "file_extension": ".py",
   "mimetype": "text/x-python",
   "name": "python",
   "nbconvert_exporter": "python",
   "pygments_lexer": "ipython3",
   "version": "3.12.0"
  }
 },
 "nbformat": 4,
 "nbformat_minor": 5
}
